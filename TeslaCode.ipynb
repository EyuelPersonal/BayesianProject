{
 "cells": [
  {
   "cell_type": "code",
   "execution_count": null,
   "metadata": {},
   "outputs": [],
   "source": [
    "import pandas as pd\n",
    "import matplotlib.pyplot as plt\n",
    "\n",
    "# Change name of dataframe\n",
    "changes = pd.DataFrame()"
   ]
  },
  {
   "cell_type": "code",
   "execution_count": null,
   "metadata": {},
   "outputs": [],
   "source": [
    "import warnings\n",
    "\n",
    "with warnings.catch_warnings():\n",
    "    warnings.filterwarnings(\"ignore\", category=UserWarning)\n",
    "    changes.plot(figsize=(8, 4))\n",
    "    plt.ylabel(\"daily change in returns (%)\");"
   ]
  },
  {
   "cell_type": "code",
   "execution_count": null,
   "metadata": {},
   "outputs": [],
   "source": [
    "import arviz as az\n",
    "import numpy as np\n",
    "import pymc3 as pm\n",
    "\n",
    "with pm.Model() as Apple_model:\n",
    "    change_returns = pm.Data(\"changes\", changes[\"changes\"], dims=\"Date\", export_index_as_coords=True)\n",
    "\n",
    "    nu = pm.Exponential(\"nu\", 0.1, testval=5.0)\n",
    "    sigma = pm.Exponential(\"sigma\", 50, testval=0.1)\n",
    "    s = pm.GaussianRandomWalk(\"s\", sigma=sigma, dims=\"Date\")\n",
    "    volatility_process = pm.Deterministic(\"volatility_process\", pm.math.exp(-2*s) == 0.5, dims=\"Date\")\n",
    "    r = pm.StudentT(\"r\", nu=nu, sigma=volatility_process, observed=change_returns, dims=\"Date\")"
   ]
  },
  {
   "cell_type": "code",
   "execution_count": null,
   "metadata": {},
   "outputs": [],
   "source": [
    "with Apple_model:\n",
    "    trace = pm.sample(2000, init=\"adapt_diag\", return_inferencedata=False)"
   ]
  },
  {
   "cell_type": "code",
   "execution_count": null,
   "metadata": {},
   "outputs": [],
   "source": [
    "with Apple_model:\n",
    "    az.plot_trace(trace, var_names=[\"nu\", \"sigma\"]);"
   ]
  },
  {
   "cell_type": "code",
   "execution_count": null,
   "metadata": {},
   "outputs": [],
   "source": [
    "fig, ax = plt.subplots(figsize=(15, 8))\n",
    "changes.plot(ax=ax)\n",
    "ax.plot(changes.index, 1 / np.exp(trace[\"s\", ::5].T), \"C3\", alpha=0.03)\n",
    "ax.set(title=\"volatility_process\", xlabel=\"time\", ylabel=\"volatility\")\n",
    "ax.legend([\"Apple\", \"stochastic volatility process\"], loc=\"upper right\");"
   ]
  }
 ],
 "metadata": {
  "language_info": {
   "name": "python"
  },
  "orig_nbformat": 4
 },
 "nbformat": 4,
 "nbformat_minor": 2
}
